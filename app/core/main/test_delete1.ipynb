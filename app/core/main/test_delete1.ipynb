{
 "cells": [
  {
   "cell_type": "code",
   "execution_count": 1,
   "metadata": {},
   "outputs": [
    {
     "name": "stderr",
     "output_type": "stream",
     "text": [
      "[nltk_data] Downloading package punkt to\n",
      "[nltk_data]     C:\\Users\\mylaptop.ge\\AppData\\Roaming\\nltk_data...\n",
      "[nltk_data]   Package punkt is already up-to-date!\n",
      "[nltk_data] Downloading package wordnet to\n",
      "[nltk_data]     C:\\Users\\mylaptop.ge\\AppData\\Roaming\\nltk_data...\n",
      "[nltk_data]   Package wordnet is already up-to-date!\n"
     ]
    }
   ],
   "source": [
    "# class chatb():\n",
    "# \tdef get_response(x):\n",
    "# \t\treturn 'test pasuxi'\n",
    "\n",
    "import nltk\n",
    "nltk.download('punkt')\n",
    "nltk.download('wordnet')\n",
    "from nltk.stem import WordNetLemmatizer\n",
    "lemmatizer = WordNetLemmatizer()\n",
    "import pickle\n",
    "import tensorflow\n",
    "import numpy as np\n",
    "\n",
    "from tensorflow.keras.models import load_model\n",
    "\n",
    "model = load_model('ai_files//chatbot_model.h5')\n",
    "import json\n",
    "import random\n",
    "intents = json.loads(open('ai_files//intents.json',encoding=\"utf8\").read())\n",
    "tf = json.loads(open('ai_files//matching.json',encoding=\"utf8\").read())\n",
    "words = pickle.load(open('ai_files//words.pkl','rb'))\n",
    "classes = pickle.load(open('ai_files//classes.pkl','rb'))\n",
    "\n",
    "tlist=tf[\"basewords\"]"
   ]
  },
  {
   "cell_type": "code",
   "execution_count": 17,
   "metadata": {},
   "outputs": [],
   "source": [
    "import pandas as pd"
   ]
  },
  {
   "cell_type": "code",
   "execution_count": null,
   "metadata": {},
   "outputs": [],
   "source": [
    "intents = json.loads(open('ai_files//intents.json',encoding=\"utf8\").read())"
   ]
  },
  {
   "cell_type": "code",
   "execution_count": 2,
   "metadata": {},
   "outputs": [],
   "source": [
    "with open('ai_files//intents.json', encoding=\"utf8\") as intents_json:\n",
    "    intents = json.loads(intents_json.read())"
   ]
  },
  {
   "cell_type": "code",
   "execution_count": 5,
   "metadata": {},
   "outputs": [],
   "source": [
    "with open('ai_files//matching.json',encoding=\"utf8\") as matching_json:\n",
    "    tf = json.loads(matching_json.read())"
   ]
  },
  {
   "cell_type": "code",
   "execution_count": 11,
   "metadata": {},
   "outputs": [
    {
     "data": {
      "text/plain": [
       "{'base': 'gamarjoba',\n",
       " 'variation': ['გამარჯობა',\n",
       "  'gamarjoba',\n",
       "  'სალამი',\n",
       "  'gamarkoba',\n",
       "  'gamajoba',\n",
       "  'gamrjoba',\n",
       "  'გაარჯობა',\n",
       "  'მოგესალმები',\n",
       "  'მოგესალმებით',\n",
       "  'დილამშვიდობის',\n",
       "  'შუადღემშვიდობის',\n",
       "  'საღამომშვიდობის']}"
      ]
     },
     "execution_count": 11,
     "metadata": {},
     "output_type": "execute_result"
    }
   ],
   "source": [
    "tf['basewords'][0]"
   ]
  },
  {
   "cell_type": "code",
   "execution_count": 12,
   "metadata": {},
   "outputs": [],
   "source": [
    "inversed_tf = {}\n",
    "for d in tf['basewords']:\n",
    "    for i in d['variation']:\n",
    "        inversed_tf[i] = d['base']"
   ]
  },
  {
   "cell_type": "code",
   "execution_count": 53,
   "metadata": {},
   "outputs": [],
   "source": [
    "with open('inversed_tf.pickle', 'wb') as handle:\n",
    "    pickle.dump(inversed_tf, handle, protocol=pickle.HIGHEST_PROTOCOL)"
   ]
  },
  {
   "cell_type": "code",
   "execution_count": 52,
   "metadata": {},
   "outputs": [],
   "source": [
    "# for i in inversed_tf.keys():\n",
    "#     if '' in i:\n",
    "#         print(inversed_tf[i])"
   ]
  },
  {
   "cell_type": "code",
   "execution_count": 50,
   "metadata": {},
   "outputs": [],
   "source": [
    "#data_inverted = pd.read_excel('C://AI_CHATBOT//detailed_model//inverse_mapping.xlsx', engine='openpyxl')"
   ]
  },
  {
   "cell_type": "code",
   "execution_count": 51,
   "metadata": {},
   "outputs": [],
   "source": [
    "#data_inverted['mapping'].unique()"
   ]
  },
  {
   "cell_type": "code",
   "execution_count": 49,
   "metadata": {},
   "outputs": [],
   "source": [
    "# gamarjoba = data_inverted[data_inverted['mapping'] == 'გამარჯობა']\n",
    "# covid = data_inverted[data_inverted['mapping'] == 'კოვიდი']\n",
    "# damexmare = data_inverted[data_inverted['mapping'] == 'დახმარება'] \n",
    "# soc = data_inverted[data_inverted['mapping'] == 'სოცდაუცველი']\n",
    "# nomeri = data_inverted[data_inverted['mapping'] == 'ნომერი']\n",
    "# izolacia = data_inverted[data_inverted['mapping'] == 'თვითიზოლაცია']\n",
    "# aktivoba = data_inverted[data_inverted['mapping'] == 'აქტივობა']\n",
    "# risk = data_inverted[data_inverted['mapping'] == 'რისკი']\n",
    "# vacantions = data_inverted[data_inverted['mapping'] == 'ვაკანსია']\n",
    "# bavshvi = data_inverted[data_inverted['mapping'] == 'ბავშვები']"
   ]
  },
  {
   "cell_type": "code",
   "execution_count": null,
   "metadata": {},
   "outputs": [],
   "source": []
  }
 ],
 "metadata": {
  "kernelspec": {
   "display_name": "Python 3",
   "language": "python",
   "name": "python3"
  },
  "language_info": {
   "codemirror_mode": {
    "name": "ipython",
    "version": 3
   },
   "file_extension": ".py",
   "mimetype": "text/x-python",
   "name": "python",
   "nbconvert_exporter": "python",
   "pygments_lexer": "ipython3",
   "version": "3.8.5"
  }
 },
 "nbformat": 4,
 "nbformat_minor": 4
}
